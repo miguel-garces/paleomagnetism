{
 "cells": [
  {
   "cell_type": "markdown",
   "id": "1ba6a9cd",
   "metadata": {},
   "source": [
    "### Site mean directions"
   ]
  },
  {
   "cell_type": "markdown",
   "id": "f5fcbbde",
   "metadata": {},
   "source": [
    "#### Importing modules and function definitions"
   ]
  },
  {
   "cell_type": "code",
   "execution_count": 1,
   "id": "4120be1b",
   "metadata": {},
   "outputs": [],
   "source": [
    "import pmagpy.pmag as pmag\n",
    "import pmagpy.pmagplotlib as pmagplotlib\n",
    "import pmagpy.ipmag as ipmag\n",
    "import matplotlib.pyplot as plt # our plotting buddy\n",
    "from pmagpy import convert_2_magic as convert\n",
    "import numpy as np # the fabulous NumPy package\n",
    "import pandas as pd # and of course Pandas\n",
    "has_basemap, Basemap = pmag.import_basemap()\n",
    "has_cartopy, Cartopy = pmag.import_cartopy()\n",
    "from IPython.display import Image\n",
    "%matplotlib inline "
   ]
  },
  {
   "cell_type": "code",
   "execution_count": 2,
   "id": "3d007c0f",
   "metadata": {},
   "outputs": [],
   "source": [
    "#help(ipmag.fisher_mean)"
   ]
  },
  {
   "cell_type": "code",
   "execution_count": 3,
   "id": "95556488",
   "metadata": {},
   "outputs": [],
   "source": [
    "#define a fisher_means function\n",
    "def fisher_means(di_block,n, tc: bool):\n",
    "    mode_1,mode_2=pmag.separate_directions(di_block) #mode_1,mode_2: 2 arrays of nested dec,inc pairs\n",
    "    # Calculates the Fisher mean and associated parameters\n",
    "    mode_1_fpars=ipmag.fisher_mean(di_block=mode_1)\n",
    "    mode_2_fpars=ipmag.fisher_mean(di_block=mode_2)\n",
    "\n",
    "    \n",
    "    # Build a dataframe with fisher statistics of all modes and the overall mean\n",
    "    mean_mode_1 = pd.DataFrame(mode_1_fpars, index =['Normal'])\n",
    "    mean_mode_2 = pd.DataFrame(mode_2_fpars, index =['Reverse'])\n",
    "    all_means = pd.concat([mean_mode_1, mean_mode_2])\n",
    "\n",
    " \n",
    "    # Calculates the Fisher mean of all_to_single_mode directions.\n",
    "    if mode_2.any():\n",
    "        to_single_mode_2_dec=mode_2.transpose()[0]+180 # all_to_single mode: all directions shifted to one polarity\n",
    "        to_single_mode_2_inc= - mode_2.transpose()[1]\n",
    "        to_single_mode_2 = np.array([to_single_mode_2_dec,to_single_mode_2_inc]).transpose()\n",
    "        all_to_single = np.concatenate((mode_1,to_single_mode_2))\n",
    "        all_to_single_fpars =ipmag.fisher_mean(di_block=all_to_single)\n",
    "        mean_all_to_single = pd.DataFrame(all_to_single_fpars, index =[\"all to normal\"])\n",
    "        all_means = pd.concat([all_means, mean_all_to_single])\n",
    "\n",
    "\n",
    "    # arrange columns in dataframe\n",
    "    cols = all_means.columns.tolist()\n",
    "    cols = cols[2:3] + cols[:2] + cols[3:]\n",
    "    all_means = all_means[cols]\n",
    "    if tc == False:\n",
    "        all_means = all_means.rename(columns = {cols[1]:'Dg', cols[2]:'Ig'})\n",
    "    else:\n",
    "        all_means = all_means.rename(columns = {cols[1]:'Ds', cols[2]:'Is'})\n",
    "        \n",
    "    # Check if mode_1 is Normal or Reversed polarity\n",
    "    if all_means.iloc[0,1] >90 and all_means.iloc[0,1] <270:\n",
    "        all_means = all_means.rename(index={'Normal': \"Reverse\", 'Reverse': \"Normal\"})\n",
    "    \n",
    "    all_means = all_means.round(2)\n",
    "    \n",
    "    # plot the data\n",
    "    ipmag.plot_net(n)\n",
    "    ipmag.plot_di(di_block=di_block,color='black',edge='white',markersize=30)\n",
    "    # draw on the means and lpha95\n",
    "    ipmag.plot_di_mean(dec=mode_1_fpars['dec'],inc=mode_1_fpars['inc'],a95=mode_1_fpars['alpha95'],\\\n",
    "                  marker='*',color='blue',markersize=50)\n",
    "    if mode_2_fpars == {}:\n",
    "        pass\n",
    "    else:\n",
    "        ipmag.plot_di_mean(dec=mode_2_fpars['dec'],inc=mode_2_fpars['inc'],a95=mode_2_fpars['alpha95'],\\\n",
    "                  marker='*',color='blue',markersize=50)\n",
    "        ipmag.plot_di_mean(dec=all_to_single_fpars['dec'],inc=all_to_single_fpars['inc'],a95=all_to_single_fpars['alpha95'],\\\n",
    "                  marker='*',color='green',markersize=50)\n",
    "    return all_means"
   ]
  },
  {
   "cell_type": "markdown",
   "id": "db23d76d",
   "metadata": {},
   "source": [
    "### Reading input excel file"
   ]
  },
  {
   "cell_type": "code",
   "execution_count": 4,
   "id": "f22bc293",
   "metadata": {},
   "outputs": [],
   "source": [
    "### Reading input excel file\n",
    "\n",
    "#set path to data file. excel file with column headings as \"site\", \"Dg\", \"Ig\", \"Ds\", \"Is\"\n",
    "#path not required if notebook located in the same folder\"\n",
    "path = 'SJF/'          #Give a path to folder from working directory\n",
    "site_name = \"SJF\"       #Give a site name\n",
    "file = path+'SJF_Dir.xlsx'\n",
    "\n",
    "#reading input data file\n",
    "xls = pd.ExcelFile(file)\n",
    "datafile = xls.parse(0) #first sheet (0) of the excel file parsed to variable\n",
    "datafile = datafile.set_index('sample')"
   ]
  },
  {
   "cell_type": "code",
   "execution_count": 5,
   "id": "12cfab2c",
   "metadata": {
    "scrolled": true
   },
   "outputs": [
    {
     "data": {
      "text/html": [
       "<div>\n",
       "<style scoped>\n",
       "    .dataframe tbody tr th:only-of-type {\n",
       "        vertical-align: middle;\n",
       "    }\n",
       "\n",
       "    .dataframe tbody tr th {\n",
       "        vertical-align: top;\n",
       "    }\n",
       "\n",
       "    .dataframe thead th {\n",
       "        text-align: right;\n",
       "    }\n",
       "</style>\n",
       "<table border=\"1\" class=\"dataframe\">\n",
       "  <thead>\n",
       "    <tr style=\"text-align: right;\">\n",
       "      <th></th>\n",
       "      <th>number</th>\n",
       "      <th>percentage</th>\n",
       "    </tr>\n",
       "    <tr>\n",
       "      <th>Quality</th>\n",
       "      <th></th>\n",
       "      <th></th>\n",
       "    </tr>\n",
       "  </thead>\n",
       "  <tbody>\n",
       "    <tr>\n",
       "      <th>1</th>\n",
       "      <td>65</td>\n",
       "      <td>34.946237</td>\n",
       "    </tr>\n",
       "    <tr>\n",
       "      <th>2</th>\n",
       "      <td>111</td>\n",
       "      <td>59.677419</td>\n",
       "    </tr>\n",
       "    <tr>\n",
       "      <th>3</th>\n",
       "      <td>10</td>\n",
       "      <td>5.376344</td>\n",
       "    </tr>\n",
       "    <tr>\n",
       "      <th>4</th>\n",
       "      <td>0</td>\n",
       "      <td></td>\n",
       "    </tr>\n",
       "  </tbody>\n",
       "</table>\n",
       "</div>"
      ],
      "text/plain": [
       "         number percentage\n",
       "Quality                   \n",
       "1            65  34.946237\n",
       "2           111  59.677419\n",
       "3            10   5.376344\n",
       "4             0           "
      ]
     },
     "execution_count": 5,
     "metadata": {},
     "output_type": "execute_result"
    }
   ],
   "source": [
    "## Quality of the dataset\n",
    "N =len(datafile)-len(datafile[datafile[\"Q\"]==4])\n",
    "Q = [1,2,3,4]\n",
    "n = [len(datafile[datafile[\"Q\"]==1]),len(datafile[datafile[\"Q\"]==2]),len(datafile[datafile[\"Q\"]==3]),len(datafile[datafile[\"Q\"]==4])]\n",
    "p = [100*n[0]/N,100*n[1]/N,100*n[2]/N,'']                                                                                                   \n",
    "quality = {\"Quality\": Q, \"number\": n, \"percentage\": p}\n",
    "quality_df = pd.DataFrame.from_dict(quality).round(2)\n",
    "quality_df = quality_df.set_index('Quality')\n",
    "quality_df #show only Q 1 to 3 (ChRM directions. Quality 4 corresponds to secondary components"
   ]
  },
  {
   "cell_type": "markdown",
   "id": "b9d77ef9",
   "metadata": {},
   "source": [
    "### Select the Quality rank for the analysis"
   ]
  },
  {
   "cell_type": "code",
   "execution_count": 6,
   "id": "68054739",
   "metadata": {},
   "outputs": [
    {
     "name": "stdin",
     "output_type": "stream",
     "text": [
      "Set Lower Quality (default¨Q = 2):  2\n",
      "Set HIgher Quality (default Q¨= 1):  1\n"
     ]
    },
    {
     "name": "stdout",
     "output_type": "stream",
     "text": [
      "Directions of Quality from 2 to 1 selected\n"
     ]
    }
   ],
   "source": [
    "Qmin = str(input('Set Lower Quality (default¨Q = 2): '))\n",
    "if not Qmin:\n",
    "    Qmin = 2\n",
    "Qmax = str(input('Set HIgher Quality (default Q¨= 1): '))\n",
    "if not Qmax:\n",
    "    Qmax = 1\n",
    "print ('Directions of Quality from '+str(Qmin)+' to '+str(Qmax)+ ' selected')\n",
    "Qmin = int(Qmin)\n",
    "Qmax = int(Qmax)\n",
    "Selecteddata = datafile[datafile['Q'].between(Qmax, Qmin, inclusive=True)]\n",
    "\n",
    "Selecteddata\n",
    "di_s =np.array([Selecteddata[\"Ds\"], Selecteddata[\"Is\"]]).transpose()\n",
    "di_g =np.array([Selecteddata[\"Dg\"], Selecteddata[\"Ig\"]]).transpose()\n"
   ]
  },
  {
   "cell_type": "markdown",
   "id": "85720234",
   "metadata": {},
   "source": [
    "### Mean directions"
   ]
  },
  {
   "cell_type": "code",
   "execution_count": 7,
   "id": "38b9dee5",
   "metadata": {},
   "outputs": [
    {
     "data": {
      "image/png": "[encoded data removed]",
      "text/plain": [
       "<Figure size 432x288 with 1 Axes>"
      ]
     },
     "metadata": {
      "needs_background": "light"
     },
     "output_type": "display_data"
    },
    {
     "data": {
      "image/png": "[encoded data removed]",
      "text/plain": [
       "<Figure size 432x288 with 1 Axes>"
      ]
     },
     "metadata": {
      "needs_background": "light"
     },
     "output_type": "display_data"
    },
    {
     "data": {
      "text/html": [
       "<div>\n",
       "<style scoped>\n",
       "    .dataframe tbody tr th:only-of-type {\n",
       "        vertical-align: middle;\n",
       "    }\n",
       "\n",
       "    .dataframe tbody tr th {\n",
       "        vertical-align: top;\n",
       "    }\n",
       "\n",
       "    .dataframe thead th {\n",
       "        text-align: right;\n",
       "    }\n",
       "</style>\n",
       "<table border=\"1\" class=\"dataframe\">\n",
       "  <thead>\n",
       "    <tr style=\"text-align: right;\">\n",
       "      <th></th>\n",
       "      <th>n</th>\n",
       "      <th>Dg</th>\n",
       "      <th>Ig</th>\n",
       "      <th>r</th>\n",
       "      <th>k</th>\n",
       "      <th>alpha95</th>\n",
       "      <th>csd</th>\n",
       "      <th>n</th>\n",
       "      <th>Ds</th>\n",
       "      <th>Is</th>\n",
       "      <th>r</th>\n",
       "      <th>k</th>\n",
       "      <th>alpha95</th>\n",
       "      <th>csd</th>\n",
       "    </tr>\n",
       "  </thead>\n",
       "  <tbody>\n",
       "    <tr>\n",
       "      <th>Normal</th>\n",
       "      <td>134</td>\n",
       "      <td>329.7</td>\n",
       "      <td>75.7</td>\n",
       "      <td>120.9</td>\n",
       "      <td>10.1</td>\n",
       "      <td>4.0</td>\n",
       "      <td>25.4</td>\n",
       "      <td>133</td>\n",
       "      <td>344.9</td>\n",
       "      <td>38.1</td>\n",
       "      <td>122.2</td>\n",
       "      <td>12.3</td>\n",
       "      <td>3.6</td>\n",
       "      <td>23.1</td>\n",
       "    </tr>\n",
       "    <tr>\n",
       "      <th>Reverse</th>\n",
       "      <td>42</td>\n",
       "      <td>188.4</td>\n",
       "      <td>-76.8</td>\n",
       "      <td>35.8</td>\n",
       "      <td>6.6</td>\n",
       "      <td>9.3</td>\n",
       "      <td>31.5</td>\n",
       "      <td>43</td>\n",
       "      <td>177.2</td>\n",
       "      <td>-34.0</td>\n",
       "      <td>36.1</td>\n",
       "      <td>6.1</td>\n",
       "      <td>9.6</td>\n",
       "      <td>32.7</td>\n",
       "    </tr>\n",
       "    <tr>\n",
       "      <th>all to normal</th>\n",
       "      <td>176</td>\n",
       "      <td>337.7</td>\n",
       "      <td>76.4</td>\n",
       "      <td>156.3</td>\n",
       "      <td>8.9</td>\n",
       "      <td>3.8</td>\n",
       "      <td>27.2</td>\n",
       "      <td>176</td>\n",
       "      <td>347.8</td>\n",
       "      <td>37.3</td>\n",
       "      <td>157.9</td>\n",
       "      <td>9.7</td>\n",
       "      <td>3.6</td>\n",
       "      <td>26.0</td>\n",
       "    </tr>\n",
       "  </tbody>\n",
       "</table>\n",
       "</div>"
      ],
      "text/plain": [
       "                 n     Dg    Ig      r     k  alpha95   csd    n     Ds    Is  \\\n",
       "Normal         134  329.7  75.7  120.9  10.1      4.0  25.4  133  344.9  38.1   \n",
       "Reverse         42  188.4 -76.8   35.8   6.6      9.3  31.5   43  177.2 -34.0   \n",
       "all to normal  176  337.7  76.4  156.3   8.9      3.8  27.2  176  347.8  37.3   \n",
       "\n",
       "                   r     k  alpha95   csd  \n",
       "Normal         122.2  12.3      3.6  23.1  \n",
       "Reverse         36.1   6.1      9.6  32.7  \n",
       "all to normal  157.9   9.7      3.6  26.0  "
      ]
     },
     "execution_count": 7,
     "metadata": {},
     "output_type": "execute_result"
    }
   ],
   "source": [
    "means_g = fisher_means(di_g,1, tc = False)\n",
    "# saving plot to file\n",
    "plt.savefig(path+site_name+'_stereplot_notc.pdf', dpi=None, facecolor='w', edgecolor='w', orientation='portrait', papertype=None, format='pdf',\n",
    "        transparent=False, bbox_inches=None, pad_inches=0.1, frameon=None, metadata=None)\n",
    "    \n",
    "means_s = fisher_means(di_s,2, tc = True)\n",
    "# saving plot to file\n",
    "plt.savefig(path+site_name+'_stereplot_tc.pdf', dpi=None, facecolor='w', edgecolor='w', orientation='portrait', papertype=None, format='pdf',\n",
    "        transparent=False, bbox_inches=None, pad_inches=0.1, frameon=None, metadata=None)\n",
    "\n",
    "plt.show()\n",
    "\n",
    "means = pd.concat([means_g,means_s], axis =1).round(1)\n",
    "means"
   ]
  },
  {
   "cell_type": "markdown",
   "id": "c415364b",
   "metadata": {},
   "source": [
    "### Save excel file"
   ]
  },
  {
   "cell_type": "code",
   "execution_count": null,
   "id": "ec28d5ab",
   "metadata": {},
   "outputs": [
    {
     "name": "stdout",
     "output_type": "stream",
     "text": [
      "save and overwrite SJF/SJF _means.xlsx?\n"
     ]
    }
   ],
   "source": [
    "outputfile = path+site_name+\"_means.xlsx\"\n",
    "export_file = ''\n",
    "while export_file != \"y\" and export_file != \"n\":\n",
    "    print('save and overwrite', path+site_name,\"_means.xlsx?\")\n",
    "    export_file = str(input(\"(y/n)?:\"))\n",
    "    if export_file == 'y':\n",
    "        means.to_excel(outputfile)\n",
    "        print(\"file saved to \", path+site_name,\"_means.xlsx\")\n",
    "    if export_file == \"n\":\n",
    "        print(\"file with mean directions NOT saved\")"
   ]
  },
  {
   "cell_type": "code",
   "execution_count": null,
   "id": "8e01479b-d978-47c3-8e8a-ab3dd5d7a3f8",
   "metadata": {},
   "outputs": [],
   "source": []
  }
 ],
 "metadata": {
  "kernelspec": {
   "display_name": "Python 3",
   "language": "python",
   "name": "python3"
  },
  "language_info": {
   "codemirror_mode": {
    "name": "ipython",
    "version": 3
   },
   "file_extension": ".py",
   "mimetype": "text/x-python",
   "name": "python",
   "nbconvert_exporter": "python",
   "pygments_lexer": "ipython3",
   "version": "3.7.10"
  }
 },
 "nbformat": 4,
 "nbformat_minor": 5
}
