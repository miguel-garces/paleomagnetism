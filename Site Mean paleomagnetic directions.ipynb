{
 "cells": [
  {
   "cell_type": "markdown",
   "id": "0e519259",
   "metadata": {},
   "source": [
    "## Site mean paleomagnetic directions"
   ]
  },
  {
   "cell_type": "markdown",
   "id": "eabaef69",
   "metadata": {},
   "source": [
    "**Calculates mean paleomagnetic directions and plots results in a stereonet in geographic and stratigraphic coordinates.** \n",
    "*Input data in an excel file with following headers:*\n",
    "\n",
    "|header      |Description                                             | \n",
    "|:-----------|:-------------------------------------------------------|\n",
    "|sample      |Sample code (name)                                      |\n",
    "|Ig          |Inclination in geographic coordinates                   |\n",
    "|Dg          |declination in geographic coordinates                   |\n",
    "|Ig          |Inclination in geographic coordinates                   |\n",
    "|Ds          |declination in stratigraphic coordinates                |\n",
    "|Is          |Inclination in stratigraphic coordinates                |\n",
    "|Q           |Quality rank ChRM -->[1,2,3] Secondary components --> 4 |\n",
    "\n",
    "The order and number of columns is not predetermined."
   ]
  },
  {
   "cell_type": "markdown",
   "id": "4a80eb25",
   "metadata": {},
   "source": [
    "#### Importing modules and function definitions"
   ]
  },
  {
   "cell_type": "code",
   "execution_count": null,
   "id": "9c738fae",
   "metadata": {},
   "outputs": [],
   "source": [
    "import pmagpy.pmag as pmag\n",
    "import pmagpy.pmagplotlib as pmagplotlib\n",
    "import pmagpy.ipmag as ipmag\n",
    "import matplotlib.pyplot as plt # our plotting buddy\n",
    "from pmagpy import convert_2_magic as convert\n",
    "import numpy as np # the fabulous NumPy package\n",
    "import pandas as pd # and of course Pandas\n",
    "has_basemap, Basemap = pmag.import_basemap()\n",
    "has_cartopy, Cartopy = pmag.import_cartopy()\n",
    "from IPython.display import Image\n",
    "%matplotlib inline "
   ]
  },
  {
   "cell_type": "code",
   "execution_count": null,
   "id": "28bd85b8",
   "metadata": {},
   "outputs": [],
   "source": [
    "#help(ipmag.fisher_mean)"
   ]
  },
  {
   "cell_type": "code",
   "execution_count": null,
   "id": "de1eb61d",
   "metadata": {},
   "outputs": [],
   "source": [
    "#define a fisher_means function\n",
    "def fisher_means(di_block,n, tc: bool):\n",
    "    mode_1,mode_2=pmag.separate_directions(di_block) #mode_1,mode_2: 2 arrays of nested dec,inc pairs\n",
    "    # Calculates the Fisher mean and associated parameters\n",
    "    mode_1_fpars=ipmag.fisher_mean(di_block=mode_1)\n",
    "    mode_2_fpars=ipmag.fisher_mean(di_block=mode_2)\n",
    "\n",
    "    \n",
    "    # Build a dataframe with fisher statistics of all modes and the overall mean\n",
    "    mean_mode_1 = pd.DataFrame(mode_1_fpars, index =['Normal'])\n",
    "    mean_mode_2 = pd.DataFrame(mode_2_fpars, index =['Reverse'])\n",
    "    all_means = pd.concat([mean_mode_1, mean_mode_2])\n",
    "\n",
    " \n",
    "    # Calculates the Fisher mean of all_to_single_mode directions.\n",
    "    if mode_2.any():\n",
    "        to_single_mode_2_dec=mode_2.transpose()[0]+180 # all_to_single mode: all directions shifted to one polarity\n",
    "        to_single_mode_2_inc= - mode_2.transpose()[1]\n",
    "        to_single_mode_2 = np.array([to_single_mode_2_dec,to_single_mode_2_inc]).transpose()\n",
    "        all_to_single = np.concatenate((mode_1,to_single_mode_2))\n",
    "        all_to_single_fpars =ipmag.fisher_mean(di_block=all_to_single)\n",
    "        mean_all_to_single = pd.DataFrame(all_to_single_fpars, index =[\"all to normal\"])\n",
    "        all_means = pd.concat([all_means, mean_all_to_single])\n",
    "\n",
    "    # arrange columns in dataframe\n",
    "    cols = all_means.columns.tolist()\n",
    "    cols = cols[2:3] + cols[:2] + cols[3:]\n",
    "    all_means = all_means[cols]\n",
    "    if tc == False:\n",
    "        all_means = all_means.rename(columns = {cols[1]:'Dg', cols[2]:'Ig'})\n",
    "    else:\n",
    "        all_means = all_means.rename(columns = {cols[1]:'Ds', cols[2]:'Is'})\n",
    "        \n",
    "    # Check if mode_1 is Normal or Reversed polarity\n",
    "    if all_means.iloc[0,1] >90 and all_means.iloc[0,1] <270:\n",
    "        all_means = all_means.rename(index={'Normal': \"Reverse\", 'Reverse': \"Normal\"})\n",
    "    \n",
    "    all_means = all_means.round(2)\n",
    "    \n",
    "    # plot the data\n",
    "    ipmag.plot_net(n)\n",
    "    ipmag.plot_di(di_block=di_block,color='black',edge='white',markersize=30)\n",
    "    # draw on the means and lpha95\n",
    "    ipmag.plot_di_mean(dec=mode_1_fpars['dec'],inc=mode_1_fpars['inc'],a95=mode_1_fpars['alpha95'],\\\n",
    "                  marker='*',color='blue',markersize=50)\n",
    "    if mode_2_fpars == {}:\n",
    "        pass\n",
    "    else:\n",
    "        ipmag.plot_di_mean(dec=mode_2_fpars['dec'],inc=mode_2_fpars['inc'],a95=mode_2_fpars['alpha95'],\\\n",
    "                  marker='*',color='blue',markersize=50)\n",
    "        ipmag.plot_di_mean(dec=all_to_single_fpars['dec'],inc=all_to_single_fpars['inc'],a95=all_to_single_fpars['alpha95'],\\\n",
    "                  marker='*',color='green',markersize=50)\n",
    "    return all_means"
   ]
  },
  {
   "cell_type": "markdown",
   "id": "e716b660",
   "metadata": {},
   "source": [
    "### Reading input excel file"
   ]
  },
  {
   "cell_type": "code",
   "execution_count": null,
   "id": "b79354a3",
   "metadata": {},
   "outputs": [],
   "source": [
    "### Reading input excel file\n",
    "\n",
    "#set path to data file. excel file with column headings as \"site\", \"Dg\", \"Ig\", \"Ds\", \"Is\"\n",
    "#path not required if notebook located in the same folder\"\n",
    "path = ''          #Give a path to folder from working directory. Ex: home/.../workdir/\n",
    "site_name = \"my pmag site\"          #Give a site name\n",
    "file = path+'my_spreadsheet.xlsx'   #Name of input file (excel format as above)\n",
    "\n",
    "#reading input data file\n",
    "xls = pd.ExcelFile(file)\n",
    "datafile = xls.parse(0) #first sheet (0) of the excel file parsed to variable\n",
    "datafile = datafile.set_index('sample')"
   ]
  },
  {
   "cell_type": "code",
   "execution_count": null,
   "id": "0f9b5d49",
   "metadata": {
    "scrolled": true
   },
   "outputs": [],
   "source": [
    "## Quality of the dataset\n",
    "N =len(datafile)-len(datafile[datafile[\"Q\"]==4])\n",
    "Q = [1,2,3,4]\n",
    "n = [len(datafile[datafile[\"Q\"]==1]),len(datafile[datafile[\"Q\"]==2]),len(datafile[datafile[\"Q\"]==3]),len(datafile[datafile[\"Q\"]==4])]\n",
    "p = [100*n[0]/N,100*n[1]/N,100*n[2]/N,'']                                                                                                   \n",
    "quality = {\"Quality\": Q, \"number\": n, \"percentage\": p}\n",
    "quality_df = pd.DataFrame.from_dict(quality)\n",
    "quality_df = quality_df.set_index('Quality')\n",
    "quality_df #show only Q 1 to 3 (ChRM directions. Quality 4 corresponds to secondary components"
   ]
  },
  {
   "cell_type": "markdown",
   "id": "8ba1131e",
   "metadata": {},
   "source": [
    "### Select the Quality rank for the analysis"
   ]
  },
  {
   "cell_type": "code",
   "execution_count": null,
   "id": "d113ce6c",
   "metadata": {},
   "outputs": [],
   "source": [
    "Qmin = str(input('Set Lower Quality (default¨Q = 2): '))\n",
    "if not Qmin:\n",
    "    Qmin = 2\n",
    "Qmax = str(input('Set HIgher Quality (default Q¨= 1): '))\n",
    "if not Qmax:\n",
    "    Qmax = 1\n",
    "print ('Directions of Quality from '+str(Qmin)+' to '+str(Qmax)+ ' selected')\n",
    "Qmin = int(Qmin)\n",
    "Qmax = int(Qmax)\n",
    "Selecteddata = datafile[datafile['Q'].between(Qmax, Qmin, inclusive=True)]\n",
    "\n",
    "Selecteddata\n",
    "di_s =np.array([Selecteddata[\"Ds\"], Selecteddata[\"Is\"]]).transpose()\n",
    "di_g =np.array([Selecteddata[\"Dg\"], Selecteddata[\"Ig\"]]).transpose()\n"
   ]
  },
  {
   "cell_type": "markdown",
   "id": "11e7914e",
   "metadata": {},
   "source": [
    "### Mean directions"
   ]
  },
  {
   "cell_type": "code",
   "execution_count": null,
   "id": "80b06fb5",
   "metadata": {},
   "outputs": [],
   "source": [
    "means_g = fisher_means(di_g,1, tc = False)\n",
    "# saving plot to file\n",
    "plt.savefig(path+site_name+'_stereplot_notc.pdf', dpi=None, facecolor='w', edgecolor='w', orientation='portrait', papertype=None, format='pdf',\n",
    "        transparent=False, bbox_inches=None, pad_inches=0.1, frameon=None, metadata=None)\n",
    "    \n",
    "means_s = fisher_means(di_s,2, tc = True)\n",
    "# saving plot to file\n",
    "plt.savefig(path+site_name+'_stereplot_tc.pdf', dpi=None, facecolor='w', edgecolor='w', orientation='portrait', papertype=None, format='pdf',\n",
    "        transparent=False, bbox_inches=None, pad_inches=0.1, frameon=None, metadata=None)\n",
    "\n",
    "plt.show()\n",
    "\n",
    "means = pd.concat([means_g,means_s], axis =1).round(1)\n",
    "means"
   ]
  },
  {
   "cell_type": "markdown",
   "id": "04d1410b",
   "metadata": {},
   "source": [
    "\n",
    "### Save excel file"
   ]
  },
  {
   "cell_type": "code",
   "execution_count": null,
   "id": "19b82d6c",
   "metadata": {},
   "outputs": [],
   "source": [
    "outputfile = path+site_name+\"_means.xlsx\"\n",
    "export_file = ''\n",
    "while export_file != \"y\" and export_file != \"n\":\n",
    "    print('save and overwrite', path+site_name,\"_means.xlsx?\")\n",
    "    export_file = str(input(\"(y/n)?:\"))\n",
    "    if export_file == 'y':\n",
    "        means.to_excel(outputfile)\n",
    "        print(\"file saved to \", path+site_name,\"_means.xlsx\")\n",
    "    if export_file == \"n\":\n",
    "        print(\"file with mean directions NOT saved\")"
   ]
  }
 ],
 "metadata": {
  "kernelspec": {
   "display_name": "Python 3",
   "language": "python",
   "name": "python3"
  },
  "language_info": {
   "codemirror_mode": {
    "name": "ipython",
    "version": 3
   },
   "file_extension": ".py",
   "mimetype": "text/x-python",
   "name": "python",
   "nbconvert_exporter": "python",
   "pygments_lexer": "ipython3",
   "version": "3.7.10"
  }
 },
 "nbformat": 4,
 "nbformat_minor": 5
}
